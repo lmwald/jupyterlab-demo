{
 "cells": [
  {
   "cell_type": "code",
   "execution_count": null,
   "metadata": {},
   "outputs": [],
   "source": []
  },
  {
   "cell_type": "markdown",
   "metadata": {},
   "source": [
    "Stands For Numerical Python.\n",
    "\n",
    "50 times faster than Python arrays. Stored in one place. Written c or c++\n",
    "\n",
    "https://www.w3schools.com/python/numpy/default.asp\n",
    "\n"
   ]
  },
  {
   "cell_type": "code",
   "execution_count": 43,
   "metadata": {},
   "outputs": [
    {
     "name": "stdout",
     "output_type": "stream",
     "text": [
      "[1 2 3 4]\n",
      "<class 'numpy.ndarray'>\n",
      "[ 8 10 12 24]\n",
      "8\n",
      "10\n",
      "12\n",
      "24\n"
     ]
    }
   ],
   "source": [
    "import numpy as np\n",
    "\n",
    "arr = np.array([1,2,3,4])\n",
    "lst = [7,8,9,20]\n",
    "print(arr)\n",
    "print(type(arr))\n",
    "a=arr+lst\n",
    "\n",
    "print(a)\n",
    "for i in range(len(a)):\n",
    "    print(a[i])\n"
   ]
  },
  {
   "cell_type": "code",
   "execution_count": 44,
   "metadata": {},
   "outputs": [
    {
     "data": {
      "text/plain": [
       "array([1, 2, 3, 4])"
      ]
     },
     "execution_count": 44,
     "metadata": {},
     "output_type": "execute_result"
    }
   ],
   "source": [
    "# from tuple\n",
    "t = np.array((1,2,3,4))\n",
    "t"
   ]
  },
  {
   "cell_type": "markdown",
   "metadata": {},
   "source": [
    "# Multi-Dimensional Arrays"
   ]
  },
  {
   "cell_type": "code",
   "execution_count": 45,
   "metadata": {},
   "outputs": [
    {
     "name": "stdout",
     "output_type": "stream",
     "text": [
      "23\n",
      "[4 5 6 7 8]\n",
      "[[ 1  2  3  4  5]\n",
      " [ 6  7  8  9 10]\n",
      " [ 6  7  8  9 10]]\n",
      "[[[ 1  2  3  4  5]\n",
      "  [ 6  7  8  9 10]\n",
      "  [ 6  7  8  9 10]]\n",
      "\n",
      " [[ 1  2  3  4  5]\n",
      "  [ 6  7  8  9 10]\n",
      "  [ 6  7  8  9 10]]]\n",
      "0\n",
      "1\n",
      "2\n",
      "3\n"
     ]
    }
   ],
   "source": [
    "a0 = np.array(23)\n",
    "a1 = np.array([4,5,6,7,8])\n",
    "a2 = np.array([[1,2,3,4,5],[6,7,8,9,10],[6,7,8,9,10]])\n",
    "a3 = np.array(\n",
    "    [\n",
    "    # Level 1\n",
    "    [\n",
    "        [1,2,3,4,5],\n",
    "        [6,7,8,9,10],\n",
    "        [6,7,8,9,10]\n",
    "    ],\n",
    "    # Level 2\n",
    "    [\n",
    "        [1,2,3,4,5],\n",
    "        [6,7,8,9,10],\n",
    "        [6,7,8,9,10]\n",
    "    ]\n",
    "    ]  \n",
    "    )\n",
    "    # Needs same number of numbers\n",
    "print(a0)\n",
    "print(a1)\n",
    "print(a2)\n",
    "print(a3)\n",
    "\n",
    "print(a0.ndim)\n",
    "print(a1.ndim)\n",
    "print(a2.ndim)\n",
    "print(a3.ndim)\n",
    "\n"
   ]
  },
  {
   "cell_type": "markdown",
   "metadata": {},
   "source": [
    "## Higher Dimensional Arrays"
   ]
  },
  {
   "cell_type": "code",
   "execution_count": 46,
   "metadata": {},
   "outputs": [
    {
     "name": "stdout",
     "output_type": "stream",
     "text": [
      "[[[[[1 2 3 4]]]]]\n",
      " ndims : 5\n"
     ]
    }
   ],
   "source": [
    "a5 = np.array([1,2,3,4], ndmin=5)\n",
    "print(a5)\n",
    "print(' ndims :', a5.ndim)"
   ]
  },
  {
   "cell_type": "markdown",
   "metadata": {},
   "source": [
    "# NumPy Array Indexing"
   ]
  },
  {
   "cell_type": "code",
   "execution_count": 58,
   "metadata": {},
   "outputs": [
    {
     "name": "stdout",
     "output_type": "stream",
     "text": [
      "4\n",
      "--------\n",
      "[[ 1  2  3  4  5]\n",
      " [ 6  7  8  9 10]\n",
      " [ 6  7  8  9 10]]\n",
      "7\n",
      "[ 6  7  8  9 10]\n",
      "[[[ 1  2  3  4  5]\n",
      "  [ 6  7  8  9 10]\n",
      "  [ 6  7  8  9 10]]\n",
      "\n",
      " [[ 1  2  3  4  5]\n",
      "  [ 6  7  8  9 10]\n",
      "  [ 6  7  8  9 10]]]\n",
      "[[ 1  2  3  4  5]\n",
      " [ 6  7  8  9 10]\n",
      " [ 6  7  8  9 10]]\n",
      "----\n",
      "[ 6  7  8  9 10]\n"
     ]
    }
   ],
   "source": [
    "div = \"--------\"\n",
    "print(a1[0])\n",
    "print(div)\n",
    "print(a2)\n",
    "print(div)\n",
    "print(a2[1,1])\n",
    "print(div)\n",
    "print(a2[1])\n",
    "print(div)\n",
    "print(a3)\n",
    "print(div)\n",
    "print(a3[1])\n",
    "print(div)\n",
    "print(a3[1,2])\n"
   ]
  },
  {
   "cell_type": "code",
   "execution_count": null,
   "metadata": {},
   "outputs": [],
   "source": []
  }
 ],
 "metadata": {
  "interpreter": {
   "hash": "75b6e37041fda76cf37866aa4eff27768787b0af621be23f574ace58785abc89"
  },
  "kernelspec": {
   "display_name": "Python 3.9.7 ('base')",
   "language": "python",
   "name": "python3"
  },
  "language_info": {
   "codemirror_mode": {
    "name": "ipython",
    "version": 3
   },
   "file_extension": ".py",
   "mimetype": "text/x-python",
   "name": "python",
   "nbconvert_exporter": "python",
   "pygments_lexer": "ipython3",
   "version": "3.9.7"
  },
  "orig_nbformat": 4
 },
 "nbformat": 4,
 "nbformat_minor": 2
}
