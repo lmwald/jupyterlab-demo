{
 "cells": [
  {
   "cell_type": "code",
   "execution_count": null,
   "metadata": {},
   "outputs": [],
   "source": []
  },
  {
   "cell_type": "markdown",
   "metadata": {},
   "source": [
    "# NumPy\n",
    "\n",
    "Stands For Numerical Python.\n",
    "\n",
    "50 times faster than Python arrays. Stored in one place. Written c or c++\n",
    "\n",
    "https://www.w3schools.com/python/numpy/default.asp\n",
    "\n"
   ]
  },
  {
   "cell_type": "code",
   "execution_count": 4,
   "metadata": {},
   "outputs": [
    {
     "name": "stdout",
     "output_type": "stream",
     "text": [
      "[1 2 3 4]\n",
      "<class 'numpy.ndarray'>\n",
      "[ 8 10 12 24]\n",
      "8\n",
      "10\n",
      "12\n",
      "24\n"
     ]
    }
   ],
   "source": [
    "import numpy as np\n",
    "\n",
    "arr = np.array([1,2,3,4])\n",
    "lst = [7,8,9,20]\n",
    "print(arr)\n",
    "print(type(arr))\n",
    "a=arr+lst\n",
    "\n",
    "print(a)\n",
    "for i in range(len(a)):\n",
    "    print(a[i])\n"
   ]
  },
  {
   "cell_type": "code",
   "execution_count": 5,
   "metadata": {},
   "outputs": [
    {
     "data": {
      "text/plain": [
       "array([1, 2, 3, 4])"
      ]
     },
     "execution_count": 5,
     "metadata": {},
     "output_type": "execute_result"
    }
   ],
   "source": [
    "# from tuple\n",
    "t = np.array((1,2,3,4))\n",
    "t"
   ]
  },
  {
   "cell_type": "markdown",
   "metadata": {},
   "source": [
    "# Multi-Dimensional Arrays"
   ]
  },
  {
   "cell_type": "code",
   "execution_count": 6,
   "metadata": {},
   "outputs": [
    {
     "name": "stdout",
     "output_type": "stream",
     "text": [
      "23\n",
      "[4 5 6 7 8]\n",
      "[[ 1  2  3  4  5]\n",
      " [ 6  7  8  9 10]\n",
      " [ 6  7  8  9 10]]\n",
      "[[[0.    0.001 0.002 0.003 0.004]\n",
      "  [0.01  0.011 0.012 0.013 0.014]\n",
      "  [0.02  0.021 0.022 0.023 0.024]]\n",
      "\n",
      " [[0.1   0.101 0.102 0.103 0.104]\n",
      "  [0.11  0.111 0.112 0.113 0.114]\n",
      "  [0.12  0.121 0.122 0.123 0.124]]]\n",
      "0\n",
      "1\n",
      "2\n",
      "3\n"
     ]
    }
   ],
   "source": [
    "a0 = np.array(23)\n",
    "a1 = np.array([4,5,6,7,8])\n",
    "a2 = np.array([[1,2,3,4,5],[6,7,8,9,10],[6,7,8,9,10]])\n",
    "a3 = np.array(\n",
    "    [\n",
    "    # Level 1\n",
    "    [\n",
    "        [.000,.001,.002,.003,.004],\n",
    "        [.010,.011,.012,.013,.014],\n",
    "        [.020,.021,.022,.023,.024]\n",
    "    ],\n",
    "    # Level 2\n",
    "    [\n",
    "        [.100,.101,.102,.103,.104],\n",
    "        [.110,.111,.112,.113,.114],\n",
    "        [.120,.121,.122,.123,.124]\n",
    "    ]\n",
    "    ]  \n",
    "    )\n",
    "    # Needs same number of numbers\n",
    "print(a0)\n",
    "print(a1)\n",
    "print(a2)\n",
    "print(a3)\n",
    "\n",
    "print(a0.ndim)\n",
    "print(a1.ndim)\n",
    "print(a2.ndim)\n",
    "print(a3.ndim)\n",
    "\n"
   ]
  },
  {
   "cell_type": "markdown",
   "metadata": {},
   "source": [
    "## Higher Dimensional Arrays"
   ]
  },
  {
   "cell_type": "code",
   "execution_count": 7,
   "metadata": {},
   "outputs": [
    {
     "name": "stdout",
     "output_type": "stream",
     "text": [
      "[[[[[1 2 3 4]]]]]\n",
      " ndims : 5\n"
     ]
    }
   ],
   "source": [
    "a5 = np.array([1,2,3,4], ndmin=5)\n",
    "print(a5)\n",
    "print(' ndims :', a5.ndim)"
   ]
  },
  {
   "cell_type": "markdown",
   "metadata": {},
   "source": [
    "# NumPy Array Indexing"
   ]
  },
  {
   "cell_type": "code",
   "execution_count": 8,
   "metadata": {},
   "outputs": [
    {
     "name": "stdout",
     "output_type": "stream",
     "text": [
      "4\n",
      "--------   \n",
      "[[ 1  2  3  4  5]\n",
      " [ 6  7  8  9 10]\n",
      " [ 6  7  8  9 10]]\n",
      "--------   \n",
      "7\n",
      "--------   \n",
      "[ 6  7  8  9 10]\n",
      "--------   a3\n",
      "[[[0.    0.001 0.002 0.003 0.004]\n",
      "  [0.01  0.011 0.012 0.013 0.014]\n",
      "  [0.02  0.021 0.022 0.023 0.024]]\n",
      "\n",
      " [[0.1   0.101 0.102 0.103 0.104]\n",
      "  [0.11  0.111 0.112 0.113 0.114]\n",
      "  [0.12  0.121 0.122 0.123 0.124]]]\n",
      "--------   a3[1]\n",
      "[[0.1   0.101 0.102 0.103 0.104]\n",
      " [0.11  0.111 0.112 0.113 0.114]\n",
      " [0.12  0.121 0.122 0.123 0.124]]\n",
      "--------   a3[1,2]\n",
      "[0.12  0.121 0.122 0.123 0.124]\n"
     ]
    }
   ],
   "source": [
    "div = \"--------   \"\n",
    "print(a1[0])\n",
    "print(div)\n",
    "print(a2)\n",
    "print(div)\n",
    "print(a2[1,1])\n",
    "print(div)\n",
    "print(a2[1])\n",
    "print(div + 'a3')\n",
    "print(a3)\n",
    "print(div + 'a3[1]')\n",
    "print(a3[1])\n",
    "print(div +'a3[1,2]')\n",
    "print(a3[1,2])\n"
   ]
  },
  {
   "cell_type": "markdown",
   "metadata": {},
   "source": [
    "# Negative Indexing\n",
    "\n",
    "Access from the end"
   ]
  },
  {
   "cell_type": "code",
   "execution_count": 9,
   "metadata": {},
   "outputs": [
    {
     "name": "stdout",
     "output_type": "stream",
     "text": [
      "0.124\n",
      "0.123\n",
      "[[0.1   0.101 0.102 0.103 0.104]\n",
      " [0.11  0.111 0.112 0.113 0.114]\n",
      " [0.12  0.121 0.122 0.123 0.124]]\n"
     ]
    }
   ],
   "source": [
    "print(a3[1,2,-1])\n",
    "print(a3[1,2,-2])\n",
    "print(a3[-1])"
   ]
  },
  {
   "cell_type": "markdown",
   "metadata": {},
   "source": [
    "# Array Slicing\n",
    "\n",
    "INCLUDES the first index but EXCLUDES the second index\n",
    "\n",
    "If omit latter however goes all the way"
   ]
  },
  {
   "cell_type": "code",
   "execution_count": null,
   "metadata": {},
   "outputs": [],
   "source": []
  },
  {
   "cell_type": "code",
   "execution_count": 10,
   "metadata": {},
   "outputs": [
    {
     "name": "stdout",
     "output_type": "stream",
     "text": [
      "[4 5 6 7 8]\n",
      "--------   \n",
      "[4 5]\n",
      "[6 7 8]\n",
      "[4 5 6]\n",
      "--------   a1[-3:]\n",
      "[6 7 8]\n",
      "--------   \n",
      "[[[0.    0.001 0.002 0.003 0.004]\n",
      "  [0.01  0.011 0.012 0.013 0.014]\n",
      "  [0.02  0.021 0.022 0.023 0.024]]\n",
      "\n",
      " [[0.1   0.101 0.102 0.103 0.104]\n",
      "  [0.11  0.111 0.112 0.113 0.114]\n",
      "  [0.12  0.121 0.122 0.123 0.124]]]\n",
      "--------   a2\n",
      "[[ 1  2  3  4  5]\n",
      " [ 6  7  8  9 10]\n",
      " [ 6  7  8  9 10]]\n",
      "--------   a2[1, 2:4]\n",
      "[8 9]\n",
      "--------   a2[0:2, 3] Row 0 to 1 col 4\n",
      "[4 9]\n",
      "--------   a2[0:2, 3]\n",
      "[8 8]\n"
     ]
    }
   ],
   "source": [
    "print(a1)\n",
    "print(div)\n",
    "print(a1[0:2])\n",
    "print(a1[2:])\n",
    "print(a1[:3])\n",
    "print(div +'a1[-3:]')\n",
    "print(a1[-3:])\n",
    "print(div)\n",
    "print(a3[:2])\n",
    "print(div +'a2' )\n",
    "print(a2)\n",
    "print(div +'a2[1, 2:4]' )\n",
    "print(a2[1, 2:4])\n",
    "print(div +'a2[0:2, 3] Row 0 to 1 col 4' )\n",
    "print(a2[0:2, 3])\n",
    "print(div +'a2[0:2, 3]' )\n",
    "print(a2[1:3, 2])\n"
   ]
  },
  {
   "cell_type": "markdown",
   "metadata": {},
   "source": [
    "# Defined Data Types\n"
   ]
  },
  {
   "cell_type": "code",
   "execution_count": 14,
   "metadata": {},
   "outputs": [
    {
     "name": "stdout",
     "output_type": "stream",
     "text": [
      "[b'1' b'2' b'3' b'44']\n",
      "|S2\n",
      "[ 1  2  3 44]\n",
      "int32\n"
     ]
    },
    {
     "ename": "ValueError",
     "evalue": "invalid literal for int() with base 10: 'a'",
     "output_type": "error",
     "traceback": [
      "\u001b[0;31m---------------------------------------------------------------------------\u001b[0m",
      "\u001b[0;31mValueError\u001b[0m                                Traceback (most recent call last)",
      "\u001b[1;32m/Users/louiswald/Documents/GitHub/jupyterlab-demo/notebooks/numpy.ipynb Cell 17'\u001b[0m in \u001b[0;36m<cell line: 9>\u001b[0;34m()\u001b[0m\n\u001b[1;32m      <a href='vscode-notebook-cell:/Users/louiswald/Documents/GitHub/jupyterlab-demo/notebooks/numpy.ipynb#ch0000017?line=5'>6</a>\u001b[0m \u001b[39mprint\u001b[39m(a)\n\u001b[1;32m      <a href='vscode-notebook-cell:/Users/louiswald/Documents/GitHub/jupyterlab-demo/notebooks/numpy.ipynb#ch0000017?line=6'>7</a>\u001b[0m \u001b[39mprint\u001b[39m(a\u001b[39m.\u001b[39mdtype)\n\u001b[0;32m----> <a href='vscode-notebook-cell:/Users/louiswald/Documents/GitHub/jupyterlab-demo/notebooks/numpy.ipynb#ch0000017?line=8'>9</a>\u001b[0m a \u001b[39m=\u001b[39m np\u001b[39m.\u001b[39;49marray([\u001b[39m'\u001b[39;49m\u001b[39ma\u001b[39;49m\u001b[39m'\u001b[39;49m,\u001b[39m'\u001b[39;49m\u001b[39m2\u001b[39;49m\u001b[39m'\u001b[39;49m,\u001b[39m'\u001b[39;49m\u001b[39m3\u001b[39;49m\u001b[39m'\u001b[39;49m], dtype \u001b[39m=\u001b[39;49m \u001b[39m'\u001b[39;49m\u001b[39mi\u001b[39;49m\u001b[39m'\u001b[39;49m)\n",
      "\u001b[0;31mValueError\u001b[0m: invalid literal for int() with base 10: 'a'"
     ]
    }
   ],
   "source": [
    "a = np.array([1,2,3,44], dtype = 'S')\n",
    "print(a)\n",
    "print(a.dtype)\n",
    "\n",
    "a = np.array([1,2,3,44], dtype = 'i4')  # 4 byte integer\n",
    "print(a)\n",
    "print(a.dtype)\n",
    "\n",
    "a = np.array(['a','2','3'], dtype = 'i')"
   ]
  },
  {
   "cell_type": "code",
   "execution_count": 23,
   "metadata": {},
   "outputs": [
    {
     "name": "stdout",
     "output_type": "stream",
     "text": [
      "[['Louis' 'Gail' 'Rachel' 'Sarah']\n",
      " ['63' '64' '17' '17']]\n",
      "<U21\n",
      "['Louis' 'Gail' 'Rachel' 'Sarah']\n",
      "['63' '64' '17' '17']\n"
     ]
    },
    {
     "ename": "TypeError",
     "evalue": "'float' object cannot be interpreted as an integer",
     "output_type": "error",
     "traceback": [
      "\u001b[0;31m---------------------------------------------------------------------------\u001b[0m",
      "\u001b[0;31mTypeError\u001b[0m                                 Traceback (most recent call last)",
      "\u001b[1;32m/Users/louiswald/Documents/GitHub/jupyterlab-demo/notebooks/numpy.ipynb Cell 18'\u001b[0m in \u001b[0;36m<cell line: 12>\u001b[0;34m()\u001b[0m\n\u001b[1;32m     <a href='vscode-notebook-cell:/Users/louiswald/Documents/GitHub/jupyterlab-demo/notebooks/numpy.ipynb#ch0000018?line=9'>10</a>\u001b[0m \u001b[39m#n = aTable.size, aTable.ndi\u001b[39;00m\n\u001b[1;32m     <a href='vscode-notebook-cell:/Users/louiswald/Documents/GitHub/jupyterlab-demo/notebooks/numpy.ipynb#ch0000018?line=10'>11</a>\u001b[0m n \u001b[39m=\u001b[39m \u001b[39m4\u001b[39m\n\u001b[0;32m---> <a href='vscode-notebook-cell:/Users/louiswald/Documents/GitHub/jupyterlab-demo/notebooks/numpy.ipynb#ch0000018?line=11'>12</a>\u001b[0m \u001b[39mfor\u001b[39;00m i \u001b[39min\u001b[39;00m \u001b[39mrange\u001b[39;49m(aTable\u001b[39m.\u001b[39;49msize\u001b[39m/\u001b[39;49maTable\u001b[39m.\u001b[39;49mndim):\n\u001b[1;32m     <a href='vscode-notebook-cell:/Users/louiswald/Documents/GitHub/jupyterlab-demo/notebooks/numpy.ipynb#ch0000018?line=12'>13</a>\u001b[0m     \u001b[39mprint\u001b[39m(aTable[\u001b[39m0\u001b[39m,i], aTable[\u001b[39m1\u001b[39m,i] )\n",
      "\u001b[0;31mTypeError\u001b[0m: 'float' object cannot be interpreted as an integer"
     ]
    }
   ],
   "source": [
    "aTable = np.array([\n",
    "    ['Louis','Gail','Rachel','Sarah'],\n",
    "    [63,64,17,17]\n",
    "    ])\n",
    "\n",
    "print(aTable)\n",
    "print(aTable.dtype)\n",
    "print(aTable[0])\n",
    "print(aTable[1])\n",
    "#n = aTable.size, aTable.ndi\n",
    "n = 4\n",
    "for i in range(n):\n",
    "    print(aTable[0,i], aTable[1,i] )"
   ]
  }
 ],
 "metadata": {
  "interpreter": {
   "hash": "75b6e37041fda76cf37866aa4eff27768787b0af621be23f574ace58785abc89"
  },
  "kernelspec": {
   "display_name": "Python 3.9.7 ('base')",
   "language": "python",
   "name": "python3"
  },
  "language_info": {
   "codemirror_mode": {
    "name": "ipython",
    "version": 3
   },
   "file_extension": ".py",
   "mimetype": "text/x-python",
   "name": "python",
   "nbconvert_exporter": "python",
   "pygments_lexer": "ipython3",
   "version": "3.9.7"
  },
  "orig_nbformat": 4
 },
 "nbformat": 4,
 "nbformat_minor": 2
}
